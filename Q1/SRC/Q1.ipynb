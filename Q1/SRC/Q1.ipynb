{
  "nbformat": 4,
  "nbformat_minor": 0,
  "metadata": {
    "colab": {
      "provenance": []
    },
    "kernelspec": {
      "name": "python3",
      "display_name": "Python 3"
    },
    "language_info": {
      "name": "python"
    }
  },
  "cells": [
    {
      "cell_type": "code",
      "execution_count": 6,
      "metadata": {
        "colab": {
          "base_uri": "https://localhost:8080/"
        },
        "id": "pAYCsq5jDayE",
        "outputId": "37856ea3-762d-4044-84c9-95e6e914fcf6"
      },
      "outputs": [
        {
          "output_type": "stream",
          "name": "stdout",
          "text": [
            "{'success': True, 'terms': 'https://fxratesapi.com/legal/terms-conditions', 'privacy': 'https://fxratesapi.com/legal/privacy-policy', 'timestamp': 1713324000, 'date': '2024-04-17T03:20:00.000Z', 'base': 'USD', 'rates': {'ADA': 2.1771275138, 'AED': 3.6719107109, 'AFN': 72.2556199766, 'ALL': 95.1788652235, 'AMD': 396.0176926161, 'ANG': 1.7870703206, 'AOA': 834.2154191893, 'ARB': 0.8662855386, 'ARS': 868.9003195025, 'AUD': 1.5574401605, 'AWG': 1.79, 'AZN': 1.7, 'BAM': 1.8397203226, 'BBD': 2, 'BDT': 110.1376980539, 'BGN': 1.8353302375, 'BHD': 0.376, 'BIF': 2866.2950056473, 'BMD': 1, 'BNB': 0.0018395767, 'BND': 1.3627301498, 'BOB': 6.9061807026, 'BRL': 5.2513205674, 'BSD': 1, 'BTC': 1.56012e-05, 'BTN': 83.4826617895, 'BWP': 13.8713921931, 'BYN': 3.2703911577, 'BYR': 32703.929613707, 'BZD': 2, 'CAD': 1.3811701671, 'CDF': 2768.7060625793, 'CHF': 0.91208012, 'CLF': 0.0259700042, 'CLP': 981.6162196827, 'CNY': 7.2398713411, 'COP': 3920.119761453, 'CRC': 501.5811990788, 'CUC': 1, 'CUP': 24, 'CVE': 103.7121801822, 'CZK': 23.6609430746, 'DAI': 1.0046882374, 'DJF': 177.721, 'DKK': 7.0166709273, 'DOP': 58.9657396933, 'DOT': 0.1492832307, 'DZD': 135.4223810189, 'EGP': 48.5429687145, 'ERN': 15, 'ETB': 56.8984682454, 'ETH': 0.0003233163, 'EUR': 0.9404201468, 'FJD': 2.276100345, 'FKP': 0.8040936156, 'GBP': 0.8041901502, 'GEL': 2.6676703374, 'GGP': 0.8040929928, 'GHS': 13.4512024683, 'GIP': 0.8040934854, 'GMD': 59.5700107115, 'GNF': 8747.4681445613, 'GTQ': 7.7681612987, 'GYD': 209.0817950376, 'HKD': 7.8287012828, 'HNL': 24.6888638449, 'HRK': 6.8079008041, 'HTG': 134.569942986, 'HUF': 371.2975324909, 'IDR': 16209.189325024, 'ILS': 3.7579604831, 'IMP': 0.8040934977, 'INR': 83.5735299271, 'IQD': 1306.8406176824, 'IRR': 42064.050321474, 'ISK': 141.9854209332, 'JEP': 0.8040936816, 'JMD': 155.4186866053, 'JOD': 0.71, 'JPY': 154.6458487852, 'KES': 131.8886501257, 'KGS': 89.1884213139, 'KHR': 4032.9164948724, 'KMF': 463.1518693208, 'KPW': 899.9993704434, 'KRW': 1382.5315419543, 'KWD': 0.3069200538, 'KYD': 0.83333, 'KZT': 447.7563539852, 'LAK': 21279.799112885, 'LBP': 89594.539308019, 'LKR': 299.909987188, 'LRD': 193.2102087813, 'LSL': 1138.9891382209, 'LTC': 0.0125101479, 'LTL': 3.2470153569, 'LVL': 0.6609139997, 'LYD': 4.8443408813, 'MAD': 10.1608412316, 'MDL': 17.7792219075, 'MGA': 4362.1537562932, 'MKD': 57.860607281, 'MMK': 2095.739785784, 'MNT': 3393.680653992, 'MOP': 8.0573909966, 'MRO': 356.999828, 'MUR': 46.6612269021, 'MVR': 15.443353023, 'MWK': 1733.9244443782, 'MXN': 16.995931774, 'MYR': 4.7931605734, 'MZN': 63.737989622, 'NAD': 18.9700736563, 'NGN': 1138.9087574394, 'NIO': 36.7859802457, 'NOK': 10.9701017786, 'NPR': 133.7094511389, 'NZD': 1.6929202557, 'OMR': 0.38423006, 'OP': 0.4496242115, 'PAB': 0.9992401623, 'PEN': 3.7566605072, 'PGK': 3.7617205655, 'PHP': 57.1582280823, 'PKR': 278.2602489023, 'PLN': 4.1045605403, 'PYG': 7433.5181850041, 'QAR': 3.6383106305, 'RON': 4.6790505138, 'RSD': 109.9052913968, 'RUB': 94.0907978523, 'RWF': 1289.2288363325, 'SAR': 3.742230399, 'SBD': 8.3568747114, 'SCR': 14.4404415701, 'SDG': 601.5, 'SEK': 10.9411513783, 'SGD': 1.3634901722, 'SHP': 0.8041901024, 'SLL': 22546.646781608, 'SOL': 0.0072862896, 'SOS': 571.5774352371, 'SRD': 34.5559252919, 'STD': 23111.287786899, 'SVC': 8.75, 'SYP': 13001.870876731, 'SZL': 19.0043332519, 'THB': 36.689695314, 'TJS': 10.9201620339, 'TMT': 3.5, 'TND': 3.160110422, 'TOP': 2.3712704018, 'TRY': 32.5076454017, 'TTD': 6.7986010093, 'TWD': 32.4967041921, 'TZS': 2588.17238133, 'UAH': 39.7105749548, 'UGX': 3828.4416313696, 'USD': 1, 'UYU': 38.9463463378, 'UZS': 12665.264481277, 'VEF': 3624334.4310757, 'VND': 25262.492768205, 'VUV': 122.1381900767, 'WST': 2.7855563875, 'XAF': 616.8141641194, 'XAG': 0.0354700628, 'XAU': 0.000419698, 'XCD': 2.7, 'XDR': 0.7617001386, 'XOF': 616.8141952631, 'XPD': 0.0009786887, 'XPF': 112.1224437895, 'XPT': 0.0010463784, 'XRP': 2.0098599967, 'YER': 249.8391953319, 'ZAR': 19.0115634817, 'ZMK': 9001.2, 'ZMW': 25.1830344852, 'ZWL': 361.9}}\n"
          ]
        }
      ],
      "source": [
        "import requests\n",
        "\n",
        "url = \"https://exchangeratespro.p.rapidapi.com/latest\"\n",
        "\n",
        "querystring = {\"base\":\"USD\"}\n",
        "\n",
        "headers = {\n",
        "\t\"X-RapidAPI-Key\": \"a390cbc5dbmshc9ea0f6f1fa8b0cp1d035ejsn4febeb194a56\",\n",
        "\t\"X-RapidAPI-Host\": \"exchangeratespro.p.rapidapi.com\"\n",
        "}\n",
        "\n",
        "response = requests.get(url, headers=headers, params=querystring)\n",
        "\n",
        "print(response.json())"
      ]
    },
    {
      "cell_type": "code",
      "source": [
        "pip install dash"
      ],
      "metadata": {
        "colab": {
          "base_uri": "https://localhost:8080/"
        },
        "id": "cZDZUHddEEop",
        "outputId": "69f948a9-ca24-4b05-bdd2-23c605cbb937"
      },
      "execution_count": 4,
      "outputs": [
        {
          "output_type": "stream",
          "name": "stdout",
          "text": [
            "Collecting dash\n",
            "  Downloading dash-2.16.1-py3-none-any.whl (10.2 MB)\n",
            "\u001b[2K     \u001b[90m━━━━━━━━━━━━━━━━━━━━━━━━━━━━━━━━━━━━━━━━\u001b[0m \u001b[32m10.2/10.2 MB\u001b[0m \u001b[31m25.4 MB/s\u001b[0m eta \u001b[36m0:00:00\u001b[0m\n",
            "\u001b[?25hRequirement already satisfied: Flask<3.1,>=1.0.4 in /usr/local/lib/python3.10/dist-packages (from dash) (2.2.5)\n",
            "Requirement already satisfied: Werkzeug<3.1 in /usr/local/lib/python3.10/dist-packages (from dash) (3.0.2)\n",
            "Requirement already satisfied: plotly>=5.0.0 in /usr/local/lib/python3.10/dist-packages (from dash) (5.15.0)\n",
            "Collecting dash-html-components==2.0.0 (from dash)\n",
            "  Downloading dash_html_components-2.0.0-py3-none-any.whl (4.1 kB)\n",
            "Collecting dash-core-components==2.0.0 (from dash)\n",
            "  Downloading dash_core_components-2.0.0-py3-none-any.whl (3.8 kB)\n",
            "Collecting dash-table==5.0.0 (from dash)\n",
            "  Downloading dash_table-5.0.0-py3-none-any.whl (3.9 kB)\n",
            "Requirement already satisfied: importlib-metadata in /usr/local/lib/python3.10/dist-packages (from dash) (7.1.0)\n",
            "Requirement already satisfied: typing-extensions>=4.1.1 in /usr/local/lib/python3.10/dist-packages (from dash) (4.11.0)\n",
            "Requirement already satisfied: requests in /usr/local/lib/python3.10/dist-packages (from dash) (2.31.0)\n",
            "Collecting retrying (from dash)\n",
            "  Downloading retrying-1.3.4-py3-none-any.whl (11 kB)\n",
            "Requirement already satisfied: nest-asyncio in /usr/local/lib/python3.10/dist-packages (from dash) (1.6.0)\n",
            "Requirement already satisfied: setuptools in /usr/local/lib/python3.10/dist-packages (from dash) (67.7.2)\n",
            "Requirement already satisfied: Jinja2>=3.0 in /usr/local/lib/python3.10/dist-packages (from Flask<3.1,>=1.0.4->dash) (3.1.3)\n",
            "Requirement already satisfied: itsdangerous>=2.0 in /usr/local/lib/python3.10/dist-packages (from Flask<3.1,>=1.0.4->dash) (2.1.2)\n",
            "Requirement already satisfied: click>=8.0 in /usr/local/lib/python3.10/dist-packages (from Flask<3.1,>=1.0.4->dash) (8.1.7)\n",
            "Requirement already satisfied: tenacity>=6.2.0 in /usr/local/lib/python3.10/dist-packages (from plotly>=5.0.0->dash) (8.2.3)\n",
            "Requirement already satisfied: packaging in /usr/local/lib/python3.10/dist-packages (from plotly>=5.0.0->dash) (24.0)\n",
            "Requirement already satisfied: MarkupSafe>=2.1.1 in /usr/local/lib/python3.10/dist-packages (from Werkzeug<3.1->dash) (2.1.5)\n",
            "Requirement already satisfied: zipp>=0.5 in /usr/local/lib/python3.10/dist-packages (from importlib-metadata->dash) (3.18.1)\n",
            "Requirement already satisfied: charset-normalizer<4,>=2 in /usr/local/lib/python3.10/dist-packages (from requests->dash) (3.3.2)\n",
            "Requirement already satisfied: idna<4,>=2.5 in /usr/local/lib/python3.10/dist-packages (from requests->dash) (3.6)\n",
            "Requirement already satisfied: urllib3<3,>=1.21.1 in /usr/local/lib/python3.10/dist-packages (from requests->dash) (2.0.7)\n",
            "Requirement already satisfied: certifi>=2017.4.17 in /usr/local/lib/python3.10/dist-packages (from requests->dash) (2024.2.2)\n",
            "Requirement already satisfied: six>=1.7.0 in /usr/local/lib/python3.10/dist-packages (from retrying->dash) (1.16.0)\n",
            "Installing collected packages: dash-table, dash-html-components, dash-core-components, retrying, dash\n",
            "Successfully installed dash-2.16.1 dash-core-components-2.0.0 dash-html-components-2.0.0 dash-table-5.0.0 retrying-1.3.4\n"
          ]
        }
      ]
    },
    {
      "cell_type": "code",
      "source": [
        "import requests\n",
        "import dash\n",
        "import dash_core_components as dcc\n",
        "import dash_html_components as html\n",
        "from dash.dependencies import Input, Output\n",
        "from dash.exceptions import PreventUpdate\n",
        "\n",
        "# Define API endpoint and query parameters\n",
        "url = \"https://exchangeratespro.p.rapidapi.com/latest\"\n",
        "querystring = {\"base\": \"USD\"}\n",
        "\n",
        "headers = {\n",
        "    \"X-RapidAPI-Key\": \"a390cbc5dbmshc9ea0f6f1fa8b0cp1d035ejsn4febeb194a56\",\n",
        "    \"X-RapidAPI-Host\": \"exchangeratespro.p.rapidapi.com\"\n",
        "}\n",
        "\n",
        "# Function to fetch exchange rate data\n",
        "def fetch_exchange_rates():\n",
        "    response = requests.get(url, headers=headers, params=querystring)\n",
        "    data = response.json()\n",
        "    return data['rates']  # Extract rates from the JSON response\n",
        "\n",
        "# Initialize Dash app\n",
        "app = dash.Dash(__name__)\n",
        "\n",
        "# Define app layout\n",
        "app.layout = html.Div([\n",
        "    html.H1(\"Exchange Rates Dashboard\"),\n",
        "\n",
        "    dcc.Interval(\n",
        "        id='interval-component',\n",
        "        interval=60 * 1000,  # Update every minute (in milliseconds)\n",
        "        n_intervals=0\n",
        "    ),\n",
        "\n",
        "    html.Div(id='exchange-rates')\n",
        "])\n",
        "\n",
        "# Callback to update exchange rates data\n",
        "@app.callback(\n",
        "    Output('exchange-rates', 'children'),\n",
        "    [Input('interval-component', 'n_intervals')]\n",
        ")\n",
        "def update_exchange_rates(n):\n",
        "    if n == 0:\n",
        "        # Initial update\n",
        "        rates = fetch_exchange_rates()\n",
        "        return html.Table([\n",
        "            html.Thead(html.Tr([html.Th('Currency'), html.Th('Rate')])),\n",
        "            html.Tbody([\n",
        "                html.Tr([html.Td(currency), html.Td(rate)]) for currency, rate in rates.items()\n",
        "            ])\n",
        "        ])\n",
        "    else:\n",
        "        # Update every interval\n",
        "        try:\n",
        "            rates = fetch_exchange_rates()\n",
        "            return html.Table([\n",
        "                html.Thead(html.Tr([html.Th('Currency'), html.Th('Rate')])),\n",
        "                html.Tbody([\n",
        "                    html.Tr([html.Td(currency), html.Td(rate)]) for currency, rate in rates.items()\n",
        "                ])\n",
        "            ])\n",
        "        except:\n",
        "            raise PreventUpdate\n",
        "\n",
        "if __name__ == '__main__':\n",
        "    app.run_server(debug=True)\n"
      ],
      "metadata": {
        "colab": {
          "base_uri": "https://localhost:8080/",
          "height": 671
        },
        "id": "LpKqUka-EBRV",
        "outputId": "2649a410-a865-4823-d6bc-afc93003883d"
      },
      "execution_count": 7,
      "outputs": [
        {
          "output_type": "display_data",
          "data": {
            "text/plain": [
              "<IPython.core.display.Javascript object>"
            ],
            "application/javascript": [
              "(async (port, path, width, height, cache, element) => {\n",
              "    if (!google.colab.kernel.accessAllowed && !cache) {\n",
              "      return;\n",
              "    }\n",
              "    element.appendChild(document.createTextNode(''));\n",
              "    const url = await google.colab.kernel.proxyPort(port, {cache});\n",
              "    const iframe = document.createElement('iframe');\n",
              "    iframe.src = new URL(path, url).toString();\n",
              "    iframe.height = height;\n",
              "    iframe.width = width;\n",
              "    iframe.style.border = 0;\n",
              "    iframe.allow = [\n",
              "        'accelerometer',\n",
              "        'autoplay',\n",
              "        'camera',\n",
              "        'clipboard-read',\n",
              "        'clipboard-write',\n",
              "        'gyroscope',\n",
              "        'magnetometer',\n",
              "        'microphone',\n",
              "        'serial',\n",
              "        'usb',\n",
              "        'xr-spatial-tracking',\n",
              "    ].join('; ');\n",
              "    element.appendChild(iframe);\n",
              "  })(8050, \"/\", \"100%\", 650, false, window.element)"
            ]
          },
          "metadata": {}
        }
      ]
    }
  ]
}